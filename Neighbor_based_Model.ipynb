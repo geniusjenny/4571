{
 "cells": [
  {
   "cell_type": "code",
   "execution_count": 1,
   "metadata": {},
   "outputs": [],
   "source": [
    "from sklearn.neighbors import NearestNeighbors\n",
    "from sklearn.model_selection import train_test_split\n",
    "from sklearn.metrics import mean_squared_error, mean_absolute_error\n",
    "\n",
    "import numpy as np\n",
    "import pandas as pd\n",
    "from scipy.sparse import csr_matrix\n",
    "import matplotlib.pyplot as plt\n",
    "import warnings \n",
    "\n",
    "%matplotlib inline\n",
    "warnings.filterwarnings('ignore')"
   ]
  },
  {
   "cell_type": "code",
   "execution_count": 3,
   "metadata": {},
   "outputs": [
    {
     "ename": "ModuleNotFoundError",
     "evalue": "No module named 'pyarrow._plasma'",
     "output_type": "error",
     "traceback": [
      "\u001b[1;31m---------------------------------------------------------------------------\u001b[0m",
      "\u001b[1;31mModuleNotFoundError\u001b[0m                       Traceback (most recent call last)",
      "\u001b[1;32m<ipython-input-3-63069b85b60d>\u001b[0m in \u001b[0;36m<module>\u001b[1;34m\u001b[0m\n\u001b[1;32m----> 1\u001b[1;33m \u001b[1;32mfrom\u001b[0m \u001b[0mpandarallel\u001b[0m \u001b[1;32mimport\u001b[0m \u001b[0mpandarallel\u001b[0m\u001b[1;33m\u001b[0m\u001b[1;33m\u001b[0m\u001b[0m\n\u001b[0m\u001b[0;32m      2\u001b[0m \u001b[0mpandarallel\u001b[0m\u001b[1;33m.\u001b[0m\u001b[0minitialize\u001b[0m\u001b[1;33m(\u001b[0m\u001b[0mnb_workers\u001b[0m\u001b[1;33m=\u001b[0m\u001b[1;36m7\u001b[0m\u001b[1;33m,\u001b[0m \u001b[0mprogress_bar\u001b[0m\u001b[1;33m=\u001b[0m\u001b[1;32mFalse\u001b[0m\u001b[1;33m)\u001b[0m\u001b[1;33m\u001b[0m\u001b[1;33m\u001b[0m\u001b[0m\n\u001b[0;32m      3\u001b[0m \u001b[1;31m# for parallel computing the lambda function\u001b[0m\u001b[1;33m\u001b[0m\u001b[1;33m\u001b[0m\u001b[1;33m\u001b[0m\u001b[0m\n",
      "\u001b[1;32m~\\Anaconda3\\lib\\site-packages\\pandarallel\\__init__.py\u001b[0m in \u001b[0;36m<module>\u001b[1;34m\u001b[0m\n\u001b[0;32m      1\u001b[0m \u001b[0m__version__\u001b[0m \u001b[1;33m=\u001b[0m \u001b[1;34m\"1.3.4\"\u001b[0m\u001b[1;33m\u001b[0m\u001b[1;33m\u001b[0m\u001b[0m\n\u001b[0;32m      2\u001b[0m \u001b[1;33m\u001b[0m\u001b[0m\n\u001b[1;32m----> 3\u001b[1;33m \u001b[1;32mfrom\u001b[0m \u001b[1;33m.\u001b[0m\u001b[0mpandarallel\u001b[0m \u001b[1;32mimport\u001b[0m \u001b[0mpandarallel\u001b[0m\u001b[1;33m\u001b[0m\u001b[1;33m\u001b[0m\u001b[0m\n\u001b[0m",
      "\u001b[1;32m~\\Anaconda3\\lib\\site-packages\\pandarallel\\pandarallel.py\u001b[0m in \u001b[0;36m<module>\u001b[1;34m\u001b[0m\n\u001b[0;32m      1\u001b[0m \u001b[1;32mimport\u001b[0m \u001b[0mpandas\u001b[0m \u001b[1;32mas\u001b[0m \u001b[0mpd\u001b[0m\u001b[1;33m\u001b[0m\u001b[1;33m\u001b[0m\u001b[0m\n\u001b[1;32m----> 2\u001b[1;33m \u001b[1;32mimport\u001b[0m \u001b[0mpyarrow\u001b[0m\u001b[1;33m.\u001b[0m\u001b[0mplasma\u001b[0m \u001b[1;32mas\u001b[0m \u001b[0mplasma\u001b[0m\u001b[1;33m\u001b[0m\u001b[1;33m\u001b[0m\u001b[0m\n\u001b[0m\u001b[0;32m      3\u001b[0m \u001b[1;32mimport\u001b[0m \u001b[0mmultiprocessing\u001b[0m \u001b[1;32mas\u001b[0m \u001b[0mmultiprocessing\u001b[0m\u001b[1;33m\u001b[0m\u001b[1;33m\u001b[0m\u001b[0m\n\u001b[0;32m      4\u001b[0m \u001b[1;33m\u001b[0m\u001b[0m\n\u001b[0;32m      5\u001b[0m \u001b[1;32mfrom\u001b[0m \u001b[1;33m.\u001b[0m\u001b[0mdataframe\u001b[0m \u001b[1;32mimport\u001b[0m \u001b[0mDataFrame\u001b[0m\u001b[1;33m\u001b[0m\u001b[1;33m\u001b[0m\u001b[0m\n",
      "\u001b[1;32m~\\Anaconda3\\lib\\site-packages\\pyarrow\\plasma.py\u001b[0m in \u001b[0;36m<module>\u001b[1;34m\u001b[0m\n\u001b[0;32m     27\u001b[0m \u001b[1;32mimport\u001b[0m \u001b[0mtime\u001b[0m\u001b[1;33m\u001b[0m\u001b[1;33m\u001b[0m\u001b[0m\n\u001b[0;32m     28\u001b[0m \u001b[1;33m\u001b[0m\u001b[0m\n\u001b[1;32m---> 29\u001b[1;33m from pyarrow._plasma import (ObjectID, ObjectNotAvailable, # noqa\n\u001b[0m\u001b[0;32m     30\u001b[0m                              \u001b[0mPlasmaBuffer\u001b[0m\u001b[1;33m,\u001b[0m \u001b[0mPlasmaClient\u001b[0m\u001b[1;33m,\u001b[0m \u001b[0mconnect\u001b[0m\u001b[1;33m,\u001b[0m\u001b[1;33m\u001b[0m\u001b[1;33m\u001b[0m\u001b[0m\n\u001b[0;32m     31\u001b[0m                              \u001b[0mPlasmaObjectExists\u001b[0m\u001b[1;33m,\u001b[0m \u001b[0mPlasmaObjectNonexistent\u001b[0m\u001b[1;33m,\u001b[0m\u001b[1;33m\u001b[0m\u001b[1;33m\u001b[0m\u001b[0m\n",
      "\u001b[1;31mModuleNotFoundError\u001b[0m: No module named 'pyarrow._plasma'"
     ]
    }
   ],
   "source": [
    "from pandarallel import pandarallel\n",
    "pandarallel.initialize(nb_workers=7, progress_bar=False)\n",
    "# for parallel computing the lambda function"
   ]
  },
  {
   "cell_type": "code",
   "execution_count": null,
   "metadata": {},
   "outputs": [],
   "source": []
  },
  {
   "cell_type": "markdown",
   "metadata": {},
   "source": [
    "### Data Preprocessing"
   ]
  },
  {
   "cell_type": "code",
   "execution_count": 159,
   "metadata": {},
   "outputs": [],
   "source": [
    "data = pd.read_csv('C:/Users/HanWang/Documents/Columbia/Fall 2019/personalization/project/ml-20m/ml-20m/ratings.csv')"
   ]
  },
  {
   "cell_type": "code",
   "execution_count": 160,
   "metadata": {},
   "outputs": [
    {
     "name": "stdout",
     "output_type": "stream",
     "text": [
      "NaNs cells:  0\n"
     ]
    },
    {
     "data": {
      "text/html": [
       "<div>\n",
       "<style scoped>\n",
       "    .dataframe tbody tr th:only-of-type {\n",
       "        vertical-align: middle;\n",
       "    }\n",
       "\n",
       "    .dataframe tbody tr th {\n",
       "        vertical-align: top;\n",
       "    }\n",
       "\n",
       "    .dataframe thead th {\n",
       "        text-align: right;\n",
       "    }\n",
       "</style>\n",
       "<table border=\"1\" class=\"dataframe\">\n",
       "  <thead>\n",
       "    <tr style=\"text-align: right;\">\n",
       "      <th></th>\n",
       "      <th>userId</th>\n",
       "      <th>movieId</th>\n",
       "      <th>rating</th>\n",
       "      <th>timestamp</th>\n",
       "    </tr>\n",
       "  </thead>\n",
       "  <tbody>\n",
       "    <tr>\n",
       "      <td>0</td>\n",
       "      <td>1</td>\n",
       "      <td>2</td>\n",
       "      <td>3.5</td>\n",
       "      <td>1112486027</td>\n",
       "    </tr>\n",
       "    <tr>\n",
       "      <td>1</td>\n",
       "      <td>1</td>\n",
       "      <td>29</td>\n",
       "      <td>3.5</td>\n",
       "      <td>1112484676</td>\n",
       "    </tr>\n",
       "    <tr>\n",
       "      <td>2</td>\n",
       "      <td>1</td>\n",
       "      <td>32</td>\n",
       "      <td>3.5</td>\n",
       "      <td>1112484819</td>\n",
       "    </tr>\n",
       "    <tr>\n",
       "      <td>3</td>\n",
       "      <td>1</td>\n",
       "      <td>47</td>\n",
       "      <td>3.5</td>\n",
       "      <td>1112484727</td>\n",
       "    </tr>\n",
       "    <tr>\n",
       "      <td>4</td>\n",
       "      <td>1</td>\n",
       "      <td>50</td>\n",
       "      <td>3.5</td>\n",
       "      <td>1112484580</td>\n",
       "    </tr>\n",
       "  </tbody>\n",
       "</table>\n",
       "</div>"
      ],
      "text/plain": [
       "   userId  movieId  rating   timestamp\n",
       "0       1        2     3.5  1112486027\n",
       "1       1       29     3.5  1112484676\n",
       "2       1       32     3.5  1112484819\n",
       "3       1       47     3.5  1112484727\n",
       "4       1       50     3.5  1112484580"
      ]
     },
     "execution_count": 160,
     "metadata": {},
     "output_type": "execute_result"
    }
   ],
   "source": [
    "print(\"NaNs cells: \", data.isnull().values.sum())\n",
    "data.head()"
   ]
  },
  {
   "cell_type": "code",
   "execution_count": 161,
   "metadata": {},
   "outputs": [],
   "source": [
    "data.drop(\"timestamp\", inplace=True, axis=1)"
   ]
  },
  {
   "cell_type": "code",
   "execution_count": 164,
   "metadata": {},
   "outputs": [
    {
     "name": "stdout",
     "output_type": "stream",
     "text": [
      "the number of popular movies:  620\n",
      "the number of active users:  255\n"
     ]
    }
   ],
   "source": [
    "popularMovie = data[['rating', 'movieId']].groupby(\"movieId\").count()\n",
    "popularMovie = popularMovie.loc[popularMovie['rating'] > 8000].index\n",
    "\n",
    "popularUser = data[['rating', 'userId']].groupby(\"userId\").count()\n",
    "popularUser = popularUser.loc[popularUser['rating'] > 2000].index\n",
    "\n",
    "print(\"the number of popular movies: \", len(popularMovie))\n",
    "print(\"the number of active users: \", len(popularUser))"
   ]
  },
  {
   "cell_type": "code",
   "execution_count": 165,
   "metadata": {},
   "outputs": [],
   "source": [
    "data = data.loc[ \n",
    "    (data['movieId'].isin(popularMovie)) & (data['userId'].isin(popularUser)) \n",
    "]"
   ]
  },
  {
   "cell_type": "code",
   "execution_count": 166,
   "metadata": {},
   "outputs": [],
   "source": [
    "train, test = train_test_split(data, test_size=0.4)\n",
    "test, valid = train_test_split(test, test_size=0.2)"
   ]
  },
  {
   "cell_type": "code",
   "execution_count": 167,
   "metadata": {},
   "outputs": [
    {
     "name": "stdout",
     "output_type": "stream",
     "text": [
      "(74868, 3)\n",
      "(9983, 3)\n",
      "(39930, 3)\n"
     ]
    },
    {
     "data": {
      "text/html": [
       "<div>\n",
       "<style scoped>\n",
       "    .dataframe tbody tr th:only-of-type {\n",
       "        vertical-align: middle;\n",
       "    }\n",
       "\n",
       "    .dataframe tbody tr th {\n",
       "        vertical-align: top;\n",
       "    }\n",
       "\n",
       "    .dataframe thead th {\n",
       "        text-align: right;\n",
       "    }\n",
       "</style>\n",
       "<table border=\"1\" class=\"dataframe\">\n",
       "  <thead>\n",
       "    <tr style=\"text-align: right;\">\n",
       "      <th></th>\n",
       "      <th>userId</th>\n",
       "      <th>movieId</th>\n",
       "      <th>rating</th>\n",
       "    </tr>\n",
       "  </thead>\n",
       "  <tbody>\n",
       "    <tr>\n",
       "      <td>3614560</td>\n",
       "      <td>24688</td>\n",
       "      <td>441</td>\n",
       "      <td>3.0</td>\n",
       "    </tr>\n",
       "    <tr>\n",
       "      <td>13792910</td>\n",
       "      <td>95301</td>\n",
       "      <td>1272</td>\n",
       "      <td>4.0</td>\n",
       "    </tr>\n",
       "    <tr>\n",
       "      <td>15420269</td>\n",
       "      <td>106676</td>\n",
       "      <td>1375</td>\n",
       "      <td>3.0</td>\n",
       "    </tr>\n",
       "    <tr>\n",
       "      <td>4543828</td>\n",
       "      <td>31122</td>\n",
       "      <td>357</td>\n",
       "      <td>3.5</td>\n",
       "    </tr>\n",
       "    <tr>\n",
       "      <td>14895374</td>\n",
       "      <td>102911</td>\n",
       "      <td>590</td>\n",
       "      <td>0.5</td>\n",
       "    </tr>\n",
       "  </tbody>\n",
       "</table>\n",
       "</div>"
      ],
      "text/plain": [
       "          userId  movieId  rating\n",
       "3614560    24688      441     3.0\n",
       "13792910   95301     1272     4.0\n",
       "15420269  106676     1375     3.0\n",
       "4543828    31122      357     3.5\n",
       "14895374  102911      590     0.5"
      ]
     },
     "execution_count": 167,
     "metadata": {},
     "output_type": "execute_result"
    }
   ],
   "source": [
    "print(train.shape)\n",
    "print(valid.shape)\n",
    "print(test.shape)\n",
    "train.head(5)"
   ]
  },
  {
   "cell_type": "code",
   "execution_count": 168,
   "metadata": {},
   "outputs": [],
   "source": [
    "'''\n",
    "this is the same as \n",
    "train.pivot(\n",
    "    index=\"movieId\", \n",
    "    columns=\"userId\",\n",
    "    values=\"rating\"\n",
    ")\n",
    "'''\n",
    "movieCat = pd.api.types.CategoricalDtype(categories=sorted(train['movieId'].unique()))\n",
    "userCat = pd.api.types.CategoricalDtype(categories=sorted(train['userId'].unique()))\n",
    "\n",
    "rowIndex = train['movieId'].astype(movieCat).cat.codes\n",
    "colIndex = train['userId'].astype(userCat).cat.codes\n",
    "sparse_matrix = csr_matrix(\n",
    "    (train[\"rating\"], (rowIndex, colIndex)), \n",
    "    shape=(movieCat.categories.size, userCat.categories.size)\n",
    ")\n",
    "\n",
    "UserItemDF = pd.SparseDataFrame(\n",
    "    sparse_matrix,\n",
    "    index=movieCat.categories,\n",
    "    columns=userCat.categories,\n",
    "    default_fill_value=0\n",
    ")"
   ]
  },
  {
   "cell_type": "code",
   "execution_count": 169,
   "metadata": {},
   "outputs": [
    {
     "data": {
      "text/html": [
       "<div>\n",
       "<style scoped>\n",
       "    .dataframe tbody tr th:only-of-type {\n",
       "        vertical-align: middle;\n",
       "    }\n",
       "\n",
       "    .dataframe tbody tr th {\n",
       "        vertical-align: top;\n",
       "    }\n",
       "\n",
       "    .dataframe thead th {\n",
       "        text-align: right;\n",
       "    }\n",
       "</style>\n",
       "<table border=\"1\" class=\"dataframe\">\n",
       "  <thead>\n",
       "    <tr style=\"text-align: right;\">\n",
       "      <th></th>\n",
       "      <th>156</th>\n",
       "      <th>741</th>\n",
       "      <th>903</th>\n",
       "      <th>982</th>\n",
       "      <th>2261</th>\n",
       "      <th>3318</th>\n",
       "      <th>3907</th>\n",
       "      <th>4222</th>\n",
       "      <th>4358</th>\n",
       "      <th>6636</th>\n",
       "      <th>...</th>\n",
       "      <th>134773</th>\n",
       "      <th>135090</th>\n",
       "      <th>135425</th>\n",
       "      <th>136268</th>\n",
       "      <th>136599</th>\n",
       "      <th>137202</th>\n",
       "      <th>137277</th>\n",
       "      <th>137343</th>\n",
       "      <th>137686</th>\n",
       "      <th>138208</th>\n",
       "    </tr>\n",
       "  </thead>\n",
       "  <tbody>\n",
       "    <tr>\n",
       "      <td>1</td>\n",
       "      <td>0.0</td>\n",
       "      <td>5.0</td>\n",
       "      <td>4.0</td>\n",
       "      <td>3.0</td>\n",
       "      <td>0.0</td>\n",
       "      <td>4.5</td>\n",
       "      <td>0.0</td>\n",
       "      <td>5.0</td>\n",
       "      <td>0.0</td>\n",
       "      <td>4.0</td>\n",
       "      <td>...</td>\n",
       "      <td>5.0</td>\n",
       "      <td>2.5</td>\n",
       "      <td>3.0</td>\n",
       "      <td>4.0</td>\n",
       "      <td>0.0</td>\n",
       "      <td>4.5</td>\n",
       "      <td>4.0</td>\n",
       "      <td>0.0</td>\n",
       "      <td>5.0</td>\n",
       "      <td>0.0</td>\n",
       "    </tr>\n",
       "    <tr>\n",
       "      <td>2</td>\n",
       "      <td>5.0</td>\n",
       "      <td>3.0</td>\n",
       "      <td>4.0</td>\n",
       "      <td>0.0</td>\n",
       "      <td>3.5</td>\n",
       "      <td>0.0</td>\n",
       "      <td>0.0</td>\n",
       "      <td>0.0</td>\n",
       "      <td>3.0</td>\n",
       "      <td>0.0</td>\n",
       "      <td>...</td>\n",
       "      <td>0.0</td>\n",
       "      <td>2.5</td>\n",
       "      <td>0.0</td>\n",
       "      <td>2.0</td>\n",
       "      <td>0.0</td>\n",
       "      <td>2.5</td>\n",
       "      <td>2.5</td>\n",
       "      <td>0.0</td>\n",
       "      <td>0.0</td>\n",
       "      <td>2.0</td>\n",
       "    </tr>\n",
       "    <tr>\n",
       "      <td>3</td>\n",
       "      <td>2.0</td>\n",
       "      <td>0.0</td>\n",
       "      <td>2.0</td>\n",
       "      <td>0.0</td>\n",
       "      <td>2.5</td>\n",
       "      <td>3.0</td>\n",
       "      <td>0.0</td>\n",
       "      <td>3.5</td>\n",
       "      <td>0.0</td>\n",
       "      <td>0.0</td>\n",
       "      <td>...</td>\n",
       "      <td>0.0</td>\n",
       "      <td>2.0</td>\n",
       "      <td>0.0</td>\n",
       "      <td>0.0</td>\n",
       "      <td>0.0</td>\n",
       "      <td>3.5</td>\n",
       "      <td>3.0</td>\n",
       "      <td>0.0</td>\n",
       "      <td>0.0</td>\n",
       "      <td>2.0</td>\n",
       "    </tr>\n",
       "    <tr>\n",
       "      <td>5</td>\n",
       "      <td>0.0</td>\n",
       "      <td>4.0</td>\n",
       "      <td>3.0</td>\n",
       "      <td>2.5</td>\n",
       "      <td>1.0</td>\n",
       "      <td>2.5</td>\n",
       "      <td>0.0</td>\n",
       "      <td>0.0</td>\n",
       "      <td>0.0</td>\n",
       "      <td>0.0</td>\n",
       "      <td>...</td>\n",
       "      <td>0.0</td>\n",
       "      <td>0.0</td>\n",
       "      <td>0.0</td>\n",
       "      <td>0.0</td>\n",
       "      <td>0.0</td>\n",
       "      <td>0.0</td>\n",
       "      <td>0.0</td>\n",
       "      <td>3.5</td>\n",
       "      <td>0.0</td>\n",
       "      <td>2.0</td>\n",
       "    </tr>\n",
       "    <tr>\n",
       "      <td>6</td>\n",
       "      <td>0.0</td>\n",
       "      <td>3.5</td>\n",
       "      <td>0.0</td>\n",
       "      <td>3.5</td>\n",
       "      <td>0.0</td>\n",
       "      <td>0.0</td>\n",
       "      <td>4.0</td>\n",
       "      <td>0.0</td>\n",
       "      <td>5.0</td>\n",
       "      <td>4.0</td>\n",
       "      <td>...</td>\n",
       "      <td>0.0</td>\n",
       "      <td>3.5</td>\n",
       "      <td>3.5</td>\n",
       "      <td>5.0</td>\n",
       "      <td>3.5</td>\n",
       "      <td>3.0</td>\n",
       "      <td>4.0</td>\n",
       "      <td>0.0</td>\n",
       "      <td>0.0</td>\n",
       "      <td>0.0</td>\n",
       "    </tr>\n",
       "    <tr>\n",
       "      <td>...</td>\n",
       "      <td>...</td>\n",
       "      <td>...</td>\n",
       "      <td>...</td>\n",
       "      <td>...</td>\n",
       "      <td>...</td>\n",
       "      <td>...</td>\n",
       "      <td>...</td>\n",
       "      <td>...</td>\n",
       "      <td>...</td>\n",
       "      <td>...</td>\n",
       "      <td>...</td>\n",
       "      <td>...</td>\n",
       "      <td>...</td>\n",
       "      <td>...</td>\n",
       "      <td>...</td>\n",
       "      <td>...</td>\n",
       "      <td>...</td>\n",
       "      <td>...</td>\n",
       "      <td>...</td>\n",
       "      <td>...</td>\n",
       "      <td>...</td>\n",
       "    </tr>\n",
       "    <tr>\n",
       "      <td>68157</td>\n",
       "      <td>0.0</td>\n",
       "      <td>0.0</td>\n",
       "      <td>0.0</td>\n",
       "      <td>0.0</td>\n",
       "      <td>0.0</td>\n",
       "      <td>0.0</td>\n",
       "      <td>4.0</td>\n",
       "      <td>0.0</td>\n",
       "      <td>0.0</td>\n",
       "      <td>0.0</td>\n",
       "      <td>...</td>\n",
       "      <td>0.0</td>\n",
       "      <td>0.0</td>\n",
       "      <td>0.0</td>\n",
       "      <td>3.0</td>\n",
       "      <td>4.0</td>\n",
       "      <td>0.0</td>\n",
       "      <td>4.5</td>\n",
       "      <td>4.0</td>\n",
       "      <td>0.0</td>\n",
       "      <td>4.5</td>\n",
       "    </tr>\n",
       "    <tr>\n",
       "      <td>68954</td>\n",
       "      <td>0.0</td>\n",
       "      <td>0.0</td>\n",
       "      <td>0.0</td>\n",
       "      <td>0.0</td>\n",
       "      <td>0.0</td>\n",
       "      <td>0.0</td>\n",
       "      <td>0.0</td>\n",
       "      <td>0.0</td>\n",
       "      <td>0.0</td>\n",
       "      <td>0.0</td>\n",
       "      <td>...</td>\n",
       "      <td>4.5</td>\n",
       "      <td>0.0</td>\n",
       "      <td>0.0</td>\n",
       "      <td>0.0</td>\n",
       "      <td>4.0</td>\n",
       "      <td>4.0</td>\n",
       "      <td>4.0</td>\n",
       "      <td>0.0</td>\n",
       "      <td>0.0</td>\n",
       "      <td>0.0</td>\n",
       "    </tr>\n",
       "    <tr>\n",
       "      <td>70286</td>\n",
       "      <td>0.0</td>\n",
       "      <td>0.0</td>\n",
       "      <td>0.0</td>\n",
       "      <td>0.0</td>\n",
       "      <td>0.0</td>\n",
       "      <td>0.0</td>\n",
       "      <td>0.0</td>\n",
       "      <td>4.5</td>\n",
       "      <td>4.0</td>\n",
       "      <td>0.0</td>\n",
       "      <td>...</td>\n",
       "      <td>0.0</td>\n",
       "      <td>0.0</td>\n",
       "      <td>0.0</td>\n",
       "      <td>3.5</td>\n",
       "      <td>4.0</td>\n",
       "      <td>0.0</td>\n",
       "      <td>0.0</td>\n",
       "      <td>4.0</td>\n",
       "      <td>0.0</td>\n",
       "      <td>0.0</td>\n",
       "    </tr>\n",
       "    <tr>\n",
       "      <td>72998</td>\n",
       "      <td>0.0</td>\n",
       "      <td>0.0</td>\n",
       "      <td>0.0</td>\n",
       "      <td>0.0</td>\n",
       "      <td>0.0</td>\n",
       "      <td>0.0</td>\n",
       "      <td>0.0</td>\n",
       "      <td>0.0</td>\n",
       "      <td>0.0</td>\n",
       "      <td>0.0</td>\n",
       "      <td>...</td>\n",
       "      <td>4.5</td>\n",
       "      <td>0.0</td>\n",
       "      <td>0.0</td>\n",
       "      <td>4.0</td>\n",
       "      <td>4.0</td>\n",
       "      <td>0.0</td>\n",
       "      <td>0.0</td>\n",
       "      <td>0.0</td>\n",
       "      <td>0.0</td>\n",
       "      <td>2.0</td>\n",
       "    </tr>\n",
       "    <tr>\n",
       "      <td>79132</td>\n",
       "      <td>0.0</td>\n",
       "      <td>0.0</td>\n",
       "      <td>0.0</td>\n",
       "      <td>0.0</td>\n",
       "      <td>0.0</td>\n",
       "      <td>0.0</td>\n",
       "      <td>4.0</td>\n",
       "      <td>0.0</td>\n",
       "      <td>0.0</td>\n",
       "      <td>0.0</td>\n",
       "      <td>...</td>\n",
       "      <td>5.0</td>\n",
       "      <td>0.0</td>\n",
       "      <td>0.0</td>\n",
       "      <td>3.5</td>\n",
       "      <td>4.5</td>\n",
       "      <td>4.0</td>\n",
       "      <td>4.0</td>\n",
       "      <td>4.0</td>\n",
       "      <td>0.0</td>\n",
       "      <td>3.0</td>\n",
       "    </tr>\n",
       "  </tbody>\n",
       "</table>\n",
       "<p>620 rows × 255 columns</p>\n",
       "</div>"
      ],
      "text/plain": [
       "       156     741     903     982     2261    3318    3907    4222    4358    \\\n",
       "1         0.0     5.0     4.0     3.0     0.0     4.5     0.0     5.0     0.0   \n",
       "2         5.0     3.0     4.0     0.0     3.5     0.0     0.0     0.0     3.0   \n",
       "3         2.0     0.0     2.0     0.0     2.5     3.0     0.0     3.5     0.0   \n",
       "5         0.0     4.0     3.0     2.5     1.0     2.5     0.0     0.0     0.0   \n",
       "6         0.0     3.5     0.0     3.5     0.0     0.0     4.0     0.0     5.0   \n",
       "...       ...     ...     ...     ...     ...     ...     ...     ...     ...   \n",
       "68157     0.0     0.0     0.0     0.0     0.0     0.0     4.0     0.0     0.0   \n",
       "68954     0.0     0.0     0.0     0.0     0.0     0.0     0.0     0.0     0.0   \n",
       "70286     0.0     0.0     0.0     0.0     0.0     0.0     0.0     4.5     4.0   \n",
       "72998     0.0     0.0     0.0     0.0     0.0     0.0     0.0     0.0     0.0   \n",
       "79132     0.0     0.0     0.0     0.0     0.0     0.0     4.0     0.0     0.0   \n",
       "\n",
       "       6636    ...  134773  135090  135425  136268  136599  137202  137277  \\\n",
       "1         4.0  ...     5.0     2.5     3.0     4.0     0.0     4.5     4.0   \n",
       "2         0.0  ...     0.0     2.5     0.0     2.0     0.0     2.5     2.5   \n",
       "3         0.0  ...     0.0     2.0     0.0     0.0     0.0     3.5     3.0   \n",
       "5         0.0  ...     0.0     0.0     0.0     0.0     0.0     0.0     0.0   \n",
       "6         4.0  ...     0.0     3.5     3.5     5.0     3.5     3.0     4.0   \n",
       "...       ...  ...     ...     ...     ...     ...     ...     ...     ...   \n",
       "68157     0.0  ...     0.0     0.0     0.0     3.0     4.0     0.0     4.5   \n",
       "68954     0.0  ...     4.5     0.0     0.0     0.0     4.0     4.0     4.0   \n",
       "70286     0.0  ...     0.0     0.0     0.0     3.5     4.0     0.0     0.0   \n",
       "72998     0.0  ...     4.5     0.0     0.0     4.0     4.0     0.0     0.0   \n",
       "79132     0.0  ...     5.0     0.0     0.0     3.5     4.5     4.0     4.0   \n",
       "\n",
       "       137343  137686  138208  \n",
       "1         0.0     5.0     0.0  \n",
       "2         0.0     0.0     2.0  \n",
       "3         0.0     0.0     2.0  \n",
       "5         3.5     0.0     2.0  \n",
       "6         0.0     0.0     0.0  \n",
       "...       ...     ...     ...  \n",
       "68157     4.0     0.0     4.5  \n",
       "68954     0.0     0.0     0.0  \n",
       "70286     4.0     0.0     0.0  \n",
       "72998     0.0     0.0     2.0  \n",
       "79132     4.0     0.0     3.0  \n",
       "\n",
       "[620 rows x 255 columns]"
      ]
     },
     "execution_count": 169,
     "metadata": {},
     "output_type": "execute_result"
    }
   ],
   "source": [
    "UserItemDF"
   ]
  },
  {
   "cell_type": "code",
   "execution_count": null,
   "metadata": {},
   "outputs": [],
   "source": []
  },
  {
   "cell_type": "markdown",
   "metadata": {},
   "source": [
    "### Model"
   ]
  },
  {
   "cell_type": "code",
   "execution_count": 170,
   "metadata": {},
   "outputs": [],
   "source": [
    "model = NearestNeighbors(\n",
    "    metric='cosine', \n",
    "    n_neighbors=20, \n",
    "    n_jobs=-1,\n",
    "    algorithm='brute'\n",
    ")"
   ]
  },
  {
   "cell_type": "code",
   "execution_count": 171,
   "metadata": {},
   "outputs": [
    {
     "name": "stdout",
     "output_type": "stream",
     "text": [
      "NearestNeighbors(algorithm='brute', leaf_size=30, metric='cosine',\n",
      "                 metric_params=None, n_jobs=-1, n_neighbors=20, p=2,\n",
      "                 radius=1.0)\n"
     ]
    }
   ],
   "source": [
    "print(model)"
   ]
  },
  {
   "cell_type": "code",
   "execution_count": 172,
   "metadata": {},
   "outputs": [
    {
     "data": {
      "text/plain": [
       "NearestNeighbors(algorithm='brute', leaf_size=30, metric='cosine',\n",
       "                 metric_params=None, n_jobs=-1, n_neighbors=20, p=2,\n",
       "                 radius=1.0)"
      ]
     },
     "execution_count": 172,
     "metadata": {},
     "output_type": "execute_result"
    }
   ],
   "source": [
    "model.fit(UserItemDF)"
   ]
  },
  {
   "cell_type": "code",
   "execution_count": 18,
   "metadata": {},
   "outputs": [
    {
     "data": {
      "text/plain": [
       "<bound method UnsupervisedMixin.fit of NearestNeighbors(algorithm='brute', leaf_size=30, metric='cosine',\n",
       "                 metric_params=None, n_jobs=-1, n_neighbors=20, p=2,\n",
       "                 radius=1.0)>"
      ]
     },
     "execution_count": 18,
     "metadata": {},
     "output_type": "execute_result"
    }
   ],
   "source": []
  },
  {
   "cell_type": "code",
   "execution_count": 173,
   "metadata": {},
   "outputs": [],
   "source": [
    "dis, ind = model.kneighbors(return_distance=True)"
   ]
  },
  {
   "cell_type": "code",
   "execution_count": 174,
   "metadata": {},
   "outputs": [
    {
     "name": "stdout",
     "output_type": "stream",
     "text": [
      "[[0.34924009 0.36089549 0.36298398 ... 0.38858902 0.38964293 0.39097519]\n",
      " [0.39095377 0.39470524 0.39756013 ... 0.4155606  0.41663584 0.41678822]\n",
      " [0.46418059 0.47977464 0.48117914 ... 0.50975948 0.51037082 0.51112757]\n",
      " ...\n",
      " [0.39857596 0.46317931 0.46403133 ... 0.49394469 0.49410613 0.49486147]\n",
      " [0.40865344 0.43796242 0.43827731 ... 0.50068731 0.50069782 0.5009032 ]\n",
      " [0.39850273 0.41097447 0.41389819 ... 0.47308728 0.47369313 0.47547128]]\n"
     ]
    },
    {
     "data": {
      "text/plain": [
       "(620, 20)"
      ]
     },
     "execution_count": 174,
     "metadata": {},
     "output_type": "execute_result"
    }
   ],
   "source": [
    "print(dis)\n",
    "dis.shape"
   ]
  },
  {
   "cell_type": "code",
   "execution_count": 175,
   "metadata": {},
   "outputs": [
    {
     "name": "stdout",
     "output_type": "stream",
     "text": [
      "[[534 554 576 ... 408 503 352]\n",
      " [123 212 315 ... 460 497  93]\n",
      " [316 261 471 ... 514 159 233]\n",
      " ...\n",
      " [615 607 618 ... 239 570 230]\n",
      " [612 615 619 ... 447 234 596]\n",
      " [612 615 608 ... 598 119 590]]\n"
     ]
    },
    {
     "data": {
      "text/plain": [
       "(620, 20)"
      ]
     },
     "execution_count": 175,
     "metadata": {},
     "output_type": "execute_result"
    }
   ],
   "source": [
    "print(ind)\n",
    "ind.shape"
   ]
  },
  {
   "cell_type": "code",
   "execution_count": 176,
   "metadata": {},
   "outputs": [
    {
     "data": {
      "text/plain": [
       "(array([0.34924009, 0.36089549, 0.36298398, 0.36860526, 0.37417465,\n",
       "        0.37830888, 0.3787048 , 0.37972517, 0.38181949, 0.38211905,\n",
       "        0.38439633, 0.38493773, 0.38511452, 0.38522739, 0.38548535,\n",
       "        0.38609596, 0.38800148, 0.38858902, 0.38964293, 0.39097519]),\n",
       " array([534, 554, 576, 323, 246, 141, 223, 527,  95, 584, 313, 272,  93,\n",
       "        236, 314, 225, 419, 408, 503, 352], dtype=int64))"
      ]
     },
     "execution_count": 176,
     "metadata": {},
     "output_type": "execute_result"
    }
   ],
   "source": [
    "'''\n",
    "dis: distance in high dimension, smaller distance means high similarity\n",
    "ind: Indices of the nearest points in the population matrix.\n",
    "'''\n",
    "# movieId = 1\n",
    "dis[0], ind[0]"
   ]
  },
  {
   "cell_type": "code",
   "execution_count": 177,
   "metadata": {},
   "outputs": [
    {
     "data": {
      "text/plain": [
       "[(1, 0),\n",
       " (2, 1),\n",
       " (3, 2),\n",
       " (5, 3),\n",
       " (6, 4),\n",
       " (68157, 615),\n",
       " (68954, 616),\n",
       " (70286, 617),\n",
       " (72998, 618),\n",
       " (79132, 619)]"
      ]
     },
     "execution_count": 177,
     "metadata": {},
     "output_type": "execute_result"
    }
   ],
   "source": [
    "# key: movieId\n",
    "# value: the row index in User-Item matrix\n",
    "movieIdIndexMap = {movId: idx for idx, movId in enumerate(UserItemDF.index)}\n",
    "showMovieIdIndexMap = list(movieIdIndexMap.items())\n",
    "showMovieIdIndexMap[:5] + showMovieIdIndexMap[-5:]"
   ]
  },
  {
   "cell_type": "code",
   "execution_count": 178,
   "metadata": {},
   "outputs": [],
   "source": [
    "def predict(movieId, userId, dis, ind, UserItemMatrix, returnAvg=False):\n",
    "    movieIdIndexMap = {movId: idx for idx, movId in enumerate(UserItemMatrix.index)}\n",
    "    movieIdIndexMapReversed = {idx: movId for idx, movId in enumerate(UserItemMatrix.index)}\n",
    "    \n",
    "    # since we used cosine similarity so the closest neighbor distance should be 1\n",
    "    nonZeroUserIndex = np.nonzero(UserItemMatrix.loc[movieId])[0]\n",
    "    sim = dis[ movieIdIndexMap[movieId] ]\n",
    "    mu_movie = UserItemMatrix.loc[movieId]\\\n",
    "                             .iloc[nonZeroUserIndex]\\\n",
    "                             .mean()\n",
    "    \n",
    "    nonZeroMovieIndex = np.nonzero(UserItemMatrix.iloc[ind[ movieIdIndexMap[movieId] ]].loc[:, userId])[0]\n",
    "    denom = np.sum( abs(sim[nonZeroMovieIndex]) )\n",
    "    nom = (UserItemMatrix.iloc[ind[ movieIdIndexMap[movieId] ]]\n",
    "                     .loc[:, userId]\\\n",
    "                     .iloc[nonZeroMovieIndex]\n",
    "           - UserItemMatrix.iloc[ind[ movieIdIndexMap[movieId] ]]\\\n",
    "                           .iloc[nonZeroMovieIndex]\n",
    "                           .to_dense()\\\n",
    "                           .replace({0: np.nan})\\\n",
    "                           .mean(axis=1, skipna=True)\n",
    "    ).values\n",
    "\n",
    "    if len(nonZeroMovieIndex) == 0:\n",
    "        prediction = mu_movie\n",
    "    else:\n",
    "        prediction = mu_movie + np.sum(nom * sim[nonZeroMovieIndex]) / denom\n",
    "\n",
    "    if returnAvg:\n",
    "        return prediction, mu_movie\n",
    "    else:\n",
    "        return prediction"
   ]
  },
  {
   "cell_type": "code",
   "execution_count": 179,
   "metadata": {},
   "outputs": [],
   "source": [
    "def func(s):\n",
    "    return predict(\n",
    "        movieId=s['movieId'],\n",
    "        userId=s['userId'], \n",
    "        dis=dis, ind=ind, \n",
    "        UserItemMatrix=UserItemDF\n",
    "    )"
   ]
  },
  {
   "cell_type": "code",
   "execution_count": null,
   "metadata": {
    "scrolled": true
   },
   "outputs": [],
   "source": [
    "%%time\n",
    "train['predict'] = train.apply(func, axis=1)"
   ]
  },
  {
   "cell_type": "code",
   "execution_count": 141,
   "metadata": {},
   "outputs": [
    {
     "data": {
      "text/plain": [
       "1        4.5\n",
       "2        4.0\n",
       "6        5.0\n",
       "10       0.0\n",
       "11       3.0\n",
       "        ... \n",
       "8636     4.5\n",
       "8961     5.0\n",
       "32587    5.0\n",
       "33794    5.0\n",
       "58559    5.0\n",
       "Name: 54465, Length: 252, dtype: Sparse[float64, 0]\n",
       "BlockIndex\n",
       "Block locations: array([  0,   4,   6,  10,  15,  23,  30,  34,  37,  39,  44,  47,  52,\n",
       "        57,  59,  62,  67,  69,  71,  75,  78,  84,  89,  91,  94,  96,\n",
       "        99, 106, 109, 112, 114, 117, 120, 128, 134, 136, 140, 143, 149,\n",
       "       151, 153, 156, 159, 163, 167, 172, 182, 185, 189, 191, 194, 196,\n",
       "       205, 213, 217, 224, 230, 233, 235, 239, 246])\n",
       "Block lengths: array([3, 1, 1, 3, 7, 4, 3, 2, 1, 2, 2, 3, 3, 1, 2, 3, 1, 1, 3, 2, 2, 4,\n",
       "       1, 2, 1, 2, 4, 1, 1, 1, 1, 1, 6, 4, 1, 1, 1, 4, 1, 1, 1, 2, 3, 3,\n",
       "       4, 7, 2, 1, 1, 2, 1, 5, 7, 1, 5, 5, 2, 1, 3, 5, 6])"
      ]
     },
     "execution_count": 141,
     "metadata": {},
     "output_type": "execute_result"
    }
   ],
   "source": [
    "ratings=UserItemDF.loc[:,54465]\n",
    "ratings"
   ]
  },
  {
   "cell_type": "code",
   "execution_count": 142,
   "metadata": {},
   "outputs": [
    {
     "data": {
      "text/plain": [
       "Int64Index([    1,     2,     6,    10,    11,    16,    17,    19,    21,\n",
       "               25,\n",
       "            ...\n",
       "             6711,  6874,  7153,  7361,  7438,  8636,  8961, 32587, 33794,\n",
       "            58559],\n",
       "           dtype='int64', length=252)"
      ]
     },
     "execution_count": 142,
     "metadata": {},
     "output_type": "execute_result"
    }
   ],
   "source": [
    "ratings.index"
   ]
  },
  {
   "cell_type": "code",
   "execution_count": 143,
   "metadata": {},
   "outputs": [
    {
     "data": {
      "text/html": [
       "<div>\n",
       "<style scoped>\n",
       "    .dataframe tbody tr th:only-of-type {\n",
       "        vertical-align: middle;\n",
       "    }\n",
       "\n",
       "    .dataframe tbody tr th {\n",
       "        vertical-align: top;\n",
       "    }\n",
       "\n",
       "    .dataframe thead th {\n",
       "        text-align: right;\n",
       "    }\n",
       "</style>\n",
       "<table border=\"1\" class=\"dataframe\">\n",
       "  <thead>\n",
       "    <tr style=\"text-align: right;\">\n",
       "      <th></th>\n",
       "      <th>54465</th>\n",
       "    </tr>\n",
       "  </thead>\n",
       "  <tbody>\n",
       "    <tr>\n",
       "      <td>1</td>\n",
       "      <td>4.5</td>\n",
       "    </tr>\n",
       "    <tr>\n",
       "      <td>2</td>\n",
       "      <td>4.0</td>\n",
       "    </tr>\n",
       "    <tr>\n",
       "      <td>6</td>\n",
       "      <td>5.0</td>\n",
       "    </tr>\n",
       "    <tr>\n",
       "      <td>10</td>\n",
       "      <td>0.0</td>\n",
       "    </tr>\n",
       "    <tr>\n",
       "      <td>11</td>\n",
       "      <td>3.0</td>\n",
       "    </tr>\n",
       "    <tr>\n",
       "      <td>...</td>\n",
       "      <td>...</td>\n",
       "    </tr>\n",
       "    <tr>\n",
       "      <td>8636</td>\n",
       "      <td>4.5</td>\n",
       "    </tr>\n",
       "    <tr>\n",
       "      <td>8961</td>\n",
       "      <td>5.0</td>\n",
       "    </tr>\n",
       "    <tr>\n",
       "      <td>32587</td>\n",
       "      <td>5.0</td>\n",
       "    </tr>\n",
       "    <tr>\n",
       "      <td>33794</td>\n",
       "      <td>5.0</td>\n",
       "    </tr>\n",
       "    <tr>\n",
       "      <td>58559</td>\n",
       "      <td>5.0</td>\n",
       "    </tr>\n",
       "  </tbody>\n",
       "</table>\n",
       "<p>252 rows × 1 columns</p>\n",
       "</div>"
      ],
      "text/plain": [
       "       54465\n",
       "1        4.5\n",
       "2        4.0\n",
       "6        5.0\n",
       "10       0.0\n",
       "11       3.0\n",
       "...      ...\n",
       "8636     4.5\n",
       "8961     5.0\n",
       "32587    5.0\n",
       "33794    5.0\n",
       "58559    5.0\n",
       "\n",
       "[252 rows x 1 columns]"
      ]
     },
     "execution_count": 143,
     "metadata": {},
     "output_type": "execute_result"
    }
   ],
   "source": [
    "df=pd.DataFrame(ratings)\n",
    "df"
   ]
  },
  {
   "cell_type": "code",
   "execution_count": 145,
   "metadata": {},
   "outputs": [
    {
     "name": "stdout",
     "output_type": "stream",
     "text": [
      "Wall time: 3min 25s\n"
     ]
    }
   ],
   "source": [
    "%%time\n",
    "test['predict'] = test.apply(func, axis=1)"
   ]
  },
  {
   "cell_type": "code",
   "execution_count": 146,
   "metadata": {
    "scrolled": true
   },
   "outputs": [
    {
     "data": {
      "text/html": [
       "<div>\n",
       "<style scoped>\n",
       "    .dataframe tbody tr th:only-of-type {\n",
       "        vertical-align: middle;\n",
       "    }\n",
       "\n",
       "    .dataframe tbody tr th {\n",
       "        vertical-align: top;\n",
       "    }\n",
       "\n",
       "    .dataframe thead th {\n",
       "        text-align: right;\n",
       "    }\n",
       "</style>\n",
       "<table border=\"1\" class=\"dataframe\">\n",
       "  <thead>\n",
       "    <tr style=\"text-align: right;\">\n",
       "      <th></th>\n",
       "      <th>userId</th>\n",
       "      <th>movieId</th>\n",
       "      <th>rating</th>\n",
       "      <th>predict</th>\n",
       "    </tr>\n",
       "  </thead>\n",
       "  <tbody>\n",
       "    <tr>\n",
       "      <td>17086475</td>\n",
       "      <td>118205</td>\n",
       "      <td>1101</td>\n",
       "      <td>4.0</td>\n",
       "      <td>3.309521</td>\n",
       "    </tr>\n",
       "    <tr>\n",
       "      <td>12032544</td>\n",
       "      <td>83090</td>\n",
       "      <td>590</td>\n",
       "      <td>5.0</td>\n",
       "      <td>3.447571</td>\n",
       "    </tr>\n",
       "    <tr>\n",
       "      <td>15274231</td>\n",
       "      <td>105580</td>\n",
       "      <td>4878</td>\n",
       "      <td>3.0</td>\n",
       "      <td>3.185575</td>\n",
       "    </tr>\n",
       "    <tr>\n",
       "      <td>10405289</td>\n",
       "      <td>71975</td>\n",
       "      <td>788</td>\n",
       "      <td>3.5</td>\n",
       "      <td>3.113853</td>\n",
       "    </tr>\n",
       "    <tr>\n",
       "      <td>6750377</td>\n",
       "      <td>46470</td>\n",
       "      <td>454</td>\n",
       "      <td>0.5</td>\n",
       "      <td>2.788690</td>\n",
       "    </tr>\n",
       "  </tbody>\n",
       "</table>\n",
       "</div>"
      ],
      "text/plain": [
       "          userId  movieId  rating   predict\n",
       "17086475  118205     1101     4.0  3.309521\n",
       "12032544   83090      590     5.0  3.447571\n",
       "15274231  105580     4878     3.0  3.185575\n",
       "10405289   71975      788     3.5  3.113853\n",
       "6750377    46470      454     0.5  2.788690"
      ]
     },
     "execution_count": 146,
     "metadata": {},
     "output_type": "execute_result"
    }
   ],
   "source": [
    "train.head()"
   ]
  },
  {
   "cell_type": "code",
   "execution_count": 156,
   "metadata": {},
   "outputs": [
    {
     "data": {
      "text/html": [
       "<div>\n",
       "<style scoped>\n",
       "    .dataframe tbody tr th:only-of-type {\n",
       "        vertical-align: middle;\n",
       "    }\n",
       "\n",
       "    .dataframe tbody tr th {\n",
       "        vertical-align: top;\n",
       "    }\n",
       "\n",
       "    .dataframe thead th {\n",
       "        text-align: right;\n",
       "    }\n",
       "</style>\n",
       "<table border=\"1\" class=\"dataframe\">\n",
       "  <thead>\n",
       "    <tr style=\"text-align: right;\">\n",
       "      <th></th>\n",
       "      <th>userId</th>\n",
       "      <th>movieId</th>\n",
       "      <th>rating</th>\n",
       "      <th>predict</th>\n",
       "      <th>difpre</th>\n",
       "    </tr>\n",
       "  </thead>\n",
       "  <tbody>\n",
       "    <tr>\n",
       "      <td>13315247</td>\n",
       "      <td>92011</td>\n",
       "      <td>1617</td>\n",
       "      <td>5.0</td>\n",
       "      <td>4.429014</td>\n",
       "      <td>0.570986</td>\n",
       "    </tr>\n",
       "    <tr>\n",
       "      <td>11458492</td>\n",
       "      <td>79159</td>\n",
       "      <td>235</td>\n",
       "      <td>4.0</td>\n",
       "      <td>3.786187</td>\n",
       "      <td>0.213813</td>\n",
       "    </tr>\n",
       "    <tr>\n",
       "      <td>10717968</td>\n",
       "      <td>74142</td>\n",
       "      <td>111</td>\n",
       "      <td>0.5</td>\n",
       "      <td>3.542949</td>\n",
       "      <td>3.042949</td>\n",
       "    </tr>\n",
       "    <tr>\n",
       "      <td>5989165</td>\n",
       "      <td>41267</td>\n",
       "      <td>1097</td>\n",
       "      <td>4.0</td>\n",
       "      <td>3.600440</td>\n",
       "      <td>0.399560</td>\n",
       "    </tr>\n",
       "    <tr>\n",
       "      <td>12858492</td>\n",
       "      <td>88820</td>\n",
       "      <td>5418</td>\n",
       "      <td>3.0</td>\n",
       "      <td>4.215830</td>\n",
       "      <td>1.215830</td>\n",
       "    </tr>\n",
       "  </tbody>\n",
       "</table>\n",
       "</div>"
      ],
      "text/plain": [
       "          userId  movieId  rating   predict    difpre\n",
       "13315247   92011     1617     5.0  4.429014  0.570986\n",
       "11458492   79159      235     4.0  3.786187  0.213813\n",
       "10717968   74142      111     0.5  3.542949  3.042949\n",
       "5989165    41267     1097     4.0  3.600440  0.399560\n",
       "12858492   88820     5418     3.0  4.215830  1.215830"
      ]
     },
     "execution_count": 156,
     "metadata": {},
     "output_type": "execute_result"
    }
   ],
   "source": [
    "test.head()"
   ]
  },
  {
   "cell_type": "code",
   "execution_count": null,
   "metadata": {},
   "outputs": [],
   "source": [
    "print(\"-\"*10 + \"model performance\" + \"-\"*10)\n",
    "print(\"RMSE\")\n",
    "print(\"on training set: \", mean_squared_error(train['rating'], train['predict']))\n",
    "print(\"on testing set: \", mean_squared_error(test['rating'], test['predict']))\n",
    "print(\"\\n\\nMAE\")\n",
    "print(\"on training set: \", mean_absolute_error(train['rating'], train['predict']))\n",
    "print(\"on testing set: \", mean_absolute_error(test['rating'], test['predict']))"
   ]
  },
  {
   "cell_type": "markdown",
   "metadata": {},
   "source": [
    "### Coverage"
   ]
  },
  {
   "cell_type": "code",
   "execution_count": 147,
   "metadata": {},
   "outputs": [],
   "source": [
    "train['difpre']=abs(train['predict']-train['rating'])"
   ]
  },
  {
   "cell_type": "code",
   "execution_count": 148,
   "metadata": {},
   "outputs": [],
   "source": [
    "test['difpre']=abs(test['predict']-test['rating'])"
   ]
  },
  {
   "cell_type": "code",
   "execution_count": 149,
   "metadata": {},
   "outputs": [],
   "source": [
    "def coverage(dataset,k):\n",
    "    userct=0\n",
    "    for id in dataset.userId.unique():\n",
    "        userdata=dataset[dataset.userId==id]\n",
    "        userdata['avg']=userdata.loc[:,\"rating\"].mean()\n",
    "        userdata['difavg']=userdata['avg']-userdata['rating']\n",
    "        if len(userdata[userdata.difavg>userdata.difpre])>k:\n",
    "            userct+=1\n",
    "    \n",
    "    t=dataset.userId.nunique()\n",
    "    r=userct/t\n",
    "    return r"
   ]
  },
  {
   "cell_type": "code",
   "execution_count": 152,
   "metadata": {},
   "outputs": [],
   "source": [
    "rtrain=coverage(train,10)"
   ]
  },
  {
   "cell_type": "code",
   "execution_count": 153,
   "metadata": {},
   "outputs": [
    {
     "data": {
      "text/plain": [
       "1.0"
      ]
     },
     "execution_count": 153,
     "metadata": {},
     "output_type": "execute_result"
    }
   ],
   "source": [
    "rtrain"
   ]
  },
  {
   "cell_type": "code",
   "execution_count": 154,
   "metadata": {},
   "outputs": [],
   "source": [
    "rtest=coverage(test,10)"
   ]
  },
  {
   "cell_type": "code",
   "execution_count": 155,
   "metadata": {},
   "outputs": [
    {
     "data": {
      "text/plain": [
       "0.9107142857142857"
      ]
     },
     "execution_count": 155,
     "metadata": {},
     "output_type": "execute_result"
    }
   ],
   "source": [
    "rtest"
   ]
  },
  {
   "cell_type": "code",
   "execution_count": null,
   "metadata": {},
   "outputs": [],
   "source": []
  },
  {
   "cell_type": "code",
   "execution_count": null,
   "metadata": {},
   "outputs": [],
   "source": []
  },
  {
   "cell_type": "code",
   "execution_count": null,
   "metadata": {},
   "outputs": [],
   "source": []
  },
  {
   "cell_type": "markdown",
   "metadata": {},
   "source": [
    "### Choosing Hyperparameter"
   ]
  },
  {
   "cell_type": "code",
   "execution_count": 25,
   "metadata": {},
   "outputs": [],
   "source": [
    "modelOne = NearestNeighbors(\n",
    "    metric='cosine', \n",
    "    n_neighbors=30, \n",
    "    n_jobs=-1,\n",
    "    algorithm='brute'\n",
    ")\n",
    "modelOne.fit(UserItemDF)\n",
    "disOne, indOne = modelOne.kneighbors(return_distance=True)\n",
    "\n",
    "\n",
    "modelTwo = NearestNeighbors(\n",
    "    metric='cosine', \n",
    "    n_neighbors=20, \n",
    "    n_jobs=-1,\n",
    "    algorithm='brute'\n",
    ")\n",
    "modelTwo.fit(UserItemDF)\n",
    "disTwo, indTwo = modelTwo.kneighbors(return_distance=True)\n",
    "\n",
    "\n",
    "modelThree = NearestNeighbors(\n",
    "    metric='cosine', \n",
    "    n_neighbors=10, \n",
    "    n_jobs=-1,\n",
    "    algorithm='brute'\n",
    ")\n",
    "modelThree.fit(UserItemDF)\n",
    "disThree, indThree = modelThree.kneighbors(return_distance=True)"
   ]
  },
  {
   "cell_type": "code",
   "execution_count": 26,
   "metadata": {},
   "outputs": [],
   "source": [
    "def func(s, dis, ind, UserItemMatrix):\n",
    "    return predict(\n",
    "        movieId=s['movieId'],\n",
    "        userId=s['userId'], \n",
    "        dis=dis, ind=ind, \n",
    "        UserItemMatrix=UserItemMatrix\n",
    "    )"
   ]
  },
  {
   "cell_type": "code",
   "execution_count": 27,
   "metadata": {},
   "outputs": [],
   "source": [
    "train['predictOne'] = train.parallel_apply(\n",
    "    func, axis=1, dis=disOne, ind=indOne, UserItemMatrix=UserItemDF\n",
    ")\n",
    "train['predictTwo'] = train.parallel_apply(\n",
    "    func, axis=1, dis=disTwo, ind=indTwo, UserItemMatrix=UserItemDF\n",
    ")\n",
    "train['predictThree'] = train.parallel_apply(\n",
    "    func, axis=1, dis=disThree, ind=indThree, UserItemMatrix=UserItemDF\n",
    ")"
   ]
  },
  {
   "cell_type": "code",
   "execution_count": 28,
   "metadata": {},
   "outputs": [],
   "source": [
    "valid['predictOne'] = valid.parallel_apply(\n",
    "    func, axis=1, dis=disOne, ind=indOne, UserItemMatrix=UserItemDF\n",
    ")"
   ]
  },
  {
   "cell_type": "code",
   "execution_count": 29,
   "metadata": {},
   "outputs": [],
   "source": [
    "valid['predictTwo'] = valid.parallel_apply(\n",
    "    func, axis=1, dis=disTwo, ind=indTwo, UserItemMatrix=UserItemDF\n",
    ")"
   ]
  },
  {
   "cell_type": "code",
   "execution_count": 30,
   "metadata": {},
   "outputs": [],
   "source": [
    "valid['predictThree'] = valid.parallel_apply(\n",
    "    func, axis=1, dis=disThree, ind=indThree, UserItemMatrix=UserItemDF\n",
    ")"
   ]
  },
  {
   "cell_type": "code",
   "execution_count": 31,
   "metadata": {},
   "outputs": [
    {
     "name": "stdout",
     "output_type": "stream",
     "text": [
      "model performance on training set\n",
      "neighbor size - 30:  0.5712795722551185\n",
      "neighbor size - 20:  0.5821331574117482\n",
      "neighbor size - 10:  0.6216109022473322\n"
     ]
    }
   ],
   "source": [
    "print('model performance on training set')\n",
    "print('neighbor size - 30: ', mean_squared_error(train['rating'], train['predictOne']))\n",
    "print('neighbor size - 20: ', mean_squared_error(train['rating'], train['predictTwo']))\n",
    "print('neighbor size - 10: ', mean_squared_error(train['rating'], train['predictThree']))"
   ]
  },
  {
   "cell_type": "code",
   "execution_count": 32,
   "metadata": {},
   "outputs": [
    {
     "name": "stdout",
     "output_type": "stream",
     "text": [
      "model performance on validation set\n",
      "neighbor size - 30:  0.64033783953412\n",
      "neighbor size - 20:  0.6847783249081223\n",
      "neighbor size - 10:  0.8196170756782438\n"
     ]
    }
   ],
   "source": [
    "print('model performance on validation set')\n",
    "print('neighbor size - 30: ', mean_squared_error(valid['rating'], valid['predictOne']))\n",
    "print('neighbor size - 20: ', mean_squared_error(valid['rating'], valid['predictTwo']))\n",
    "print('neighbor size - 10: ', mean_squared_error(valid['rating'], valid['predictThree']))"
   ]
  },
  {
   "cell_type": "code",
   "execution_count": null,
   "metadata": {},
   "outputs": [],
   "source": []
  },
  {
   "cell_type": "markdown",
   "metadata": {},
   "source": [
    "##### according to the validation set RMSE result, we choose neighbor size = 30"
   ]
  },
  {
   "cell_type": "code",
   "execution_count": 34,
   "metadata": {},
   "outputs": [
    {
     "name": "stdout",
     "output_type": "stream",
     "text": [
      "model performance on training set\n",
      "RMSE:  0.5712795722551185\n",
      "MAE:  0.5795319505512077\n",
      "\n",
      "\n",
      "model performance on validation set\n",
      "RMSE:  0.64033783953412\n",
      "MAE:  0.6155764213949892\n"
     ]
    }
   ],
   "source": [
    "print(\"model performance on training set\")\n",
    "print('RMSE: ', mean_squared_error(train['rating'], train['predictOne']))\n",
    "print('MAE: ', mean_absolute_error(train['rating'], train['predictOne']))\n",
    "\n",
    "print(\"\\n\\nmodel performance on validation set\")\n",
    "print('RMSE: ', mean_squared_error(valid['rating'], valid['predictOne']))\n",
    "print('MAE: ', mean_absolute_error(valid['rating'], valid['predictOne']))"
   ]
  },
  {
   "cell_type": "code",
   "execution_count": 35,
   "metadata": {},
   "outputs": [
    {
     "name": "stdout",
     "output_type": "stream",
     "text": [
      "model performance on testing set\n",
      "RMSE:  0.7058404931062546\n",
      "MAE:  0.6478214709289709\n"
     ]
    }
   ],
   "source": [
    "test['predict'] = test.parallel_apply(\n",
    "    func, axis=1, dis=disOne, ind=indOne, UserItemMatrix=UserItemDF\n",
    ")\n",
    "print(\"model performance on testing set\")\n",
    "print('RMSE: ', mean_squared_error(test['rating'], test['predict']))\n",
    "print('MAE: ', mean_absolute_error(test['rating'], test['predict']))"
   ]
  },
  {
   "cell_type": "code",
   "execution_count": null,
   "metadata": {},
   "outputs": [],
   "source": []
  }
 ],
 "metadata": {
  "kernelspec": {
   "display_name": "Python 3",
   "language": "python",
   "name": "python3"
  },
  "language_info": {
   "codemirror_mode": {
    "name": "ipython",
    "version": 3
   },
   "file_extension": ".py",
   "mimetype": "text/x-python",
   "name": "python",
   "nbconvert_exporter": "python",
   "pygments_lexer": "ipython3",
   "version": "3.7.4"
  }
 },
 "nbformat": 4,
 "nbformat_minor": 2
}
